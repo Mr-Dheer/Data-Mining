{
  "cells": [
    {
      "cell_type": "code",
      "execution_count": 1,
      "metadata": {
        "id": "JEElTgji08iF"
      },
      "outputs": [],
      "source": [
        "import pandas as pd\n",
        "import numpy as np\n",
        "from sklearn.preprocessing import LabelEncoder\n",
        "from sklearn.model_selection import train_test_split\n",
        "from sklearn.preprocessing import StandardScaler\n",
        "from imblearn.over_sampling import SMOTE\n",
        "from imblearn.under_sampling import RandomUnderSampler\n",
        "\n",
        "# Models\n",
        "from sklearn.ensemble import RandomForestClassifier\n",
        "from xgboost import XGBClassifier\n",
        "from sklearn.tree import DecisionTreeClassifier\n",
        "from sklearn.naive_bayes import GaussianNB\n",
        "from sklearn.linear_model import LogisticRegression\n",
        "from sklearn.svm import SVC\n",
        "from sklearn.neighbors import KNeighborsClassifier\n",
        "from sklearn import metrics\n",
        "from sklearn.metrics import precision_recall_fscore_support, confusion_matrix, classification_report, accuracy_score\n",
        "from sklearn.model_selection import GridSearchCV\n",
        "\n",
        "# Visualization\n",
        "import seaborn as sns\n",
        "import matplotlib.pyplot as plt\n",
        "from sklearn import tree\n",
        "from xgboost import plot_tree\n",
        "\n",
        "# Other\n",
        "import warnings\n",
        "warnings.filterwarnings(\"ignore\")\n",
        "\n",
        "\n",
        "# Allow us to use tensorflow\n",
        "import tensorflow as tf\n",
        "from tensorflow import keras\n",
        "from keras.models import Sequential\n",
        "from keras.layers import Dense, Dropout, BatchNormalization\n",
        "from tensorflow.keras.optimizers import Adam, SGD\n",
        "from keras.callbacks import ModelCheckpoint, EarlyStopping, ReduceLROnPlateau"
      ]
    },
    {
      "cell_type": "code",
      "source": [
        "from google.colab import drive\n",
        "drive.mount('/content/drive')\n",
        "%cd /content/drive/MyDrive/data/\n",
        "\n",
        "import pandas as pd\n",
        "\n",
        "original = pd.read_csv('dataset.csv')\n",
        "df=original.copy()"
      ],
      "metadata": {
        "colab": {
          "base_uri": "https://localhost:8080/"
        },
        "id": "muv4vOML3esk",
        "outputId": "95373793-8e81-4d9a-a78c-edfac2033940"
      },
      "execution_count": 2,
      "outputs": [
        {
          "output_type": "stream",
          "name": "stdout",
          "text": [
            "Mounted at /content/drive\n",
            "/content/drive/MyDrive/data\n"
          ]
        }
      ]
    },
    {
      "cell_type": "code",
      "execution_count": null,
      "metadata": {
        "colab": {
          "base_uri": "https://localhost:8080/",
          "height": 382
        },
        "id": "iXp8tuyp08iK",
        "outputId": "d3f90ddf-7d0b-42ab-8b10-9afc9f03f206"
      },
      "outputs": [
        {
          "output_type": "execute_result",
          "data": {
            "text/plain": [
              "         id    spkid       full_name pdes     name prefix neo pha     H  \\\n",
              "0  a0000001  2000001         1 Ceres    1    Ceres    NaN   N   N  3.40   \n",
              "1  a0000002  2000002        2 Pallas    2   Pallas    NaN   N   N  4.20   \n",
              "2  a0000003  2000003          3 Juno    3     Juno    NaN   N   N  5.33   \n",
              "3  a0000004  2000004         4 Vesta    4    Vesta    NaN   N   N  3.00   \n",
              "4  a0000005  2000005       5 Astraea    5  Astraea    NaN   N   N  6.90   \n",
              "\n",
              "   diameter  ...       sigma_i      sigma_om       sigma_w      sigma_ma  \\\n",
              "0   939.400  ...  4.608900e-09  6.168800e-08  6.624800e-08  7.820700e-09   \n",
              "1   545.000  ...  3.469400e-06  6.272400e-06  9.128200e-06  8.859100e-06   \n",
              "2   246.596  ...  3.223100e-06  1.664600e-05  1.772100e-05  8.110400e-06   \n",
              "3   525.400  ...  2.170600e-07  3.880800e-07  1.789300e-07  1.206800e-06   \n",
              "4   106.699  ...  2.740800e-06  2.894900e-05  2.984200e-05  8.303800e-06   \n",
              "\n",
              "       sigma_ad       sigma_n      sigma_tp     sigma_per  class      rms  \n",
              "0  1.111300e-11  1.196500e-12  3.782900e-08  9.415900e-09    MBA  0.43301  \n",
              "1  4.961300e-09  4.653600e-10  4.078700e-05  3.680700e-06    MBA  0.35936  \n",
              "2  4.363900e-09  4.413400e-10  3.528800e-05  3.107200e-06    MBA  0.33848  \n",
              "3  1.648600e-09  2.612500e-10  4.103700e-06  1.274900e-06    MBA  0.39980  \n",
              "4  4.729000e-09  5.522700e-10  3.474300e-05  3.490500e-06    MBA  0.52191  \n",
              "\n",
              "[5 rows x 45 columns]"
            ],
            "text/html": [
              "\n",
              "  <div id=\"df-e4db24fa-2910-4d1c-9ea0-b0464c32e528\">\n",
              "    <div class=\"colab-df-container\">\n",
              "      <div>\n",
              "<style scoped>\n",
              "    .dataframe tbody tr th:only-of-type {\n",
              "        vertical-align: middle;\n",
              "    }\n",
              "\n",
              "    .dataframe tbody tr th {\n",
              "        vertical-align: top;\n",
              "    }\n",
              "\n",
              "    .dataframe thead th {\n",
              "        text-align: right;\n",
              "    }\n",
              "</style>\n",
              "<table border=\"1\" class=\"dataframe\">\n",
              "  <thead>\n",
              "    <tr style=\"text-align: right;\">\n",
              "      <th></th>\n",
              "      <th>id</th>\n",
              "      <th>spkid</th>\n",
              "      <th>full_name</th>\n",
              "      <th>pdes</th>\n",
              "      <th>name</th>\n",
              "      <th>prefix</th>\n",
              "      <th>neo</th>\n",
              "      <th>pha</th>\n",
              "      <th>H</th>\n",
              "      <th>diameter</th>\n",
              "      <th>...</th>\n",
              "      <th>sigma_i</th>\n",
              "      <th>sigma_om</th>\n",
              "      <th>sigma_w</th>\n",
              "      <th>sigma_ma</th>\n",
              "      <th>sigma_ad</th>\n",
              "      <th>sigma_n</th>\n",
              "      <th>sigma_tp</th>\n",
              "      <th>sigma_per</th>\n",
              "      <th>class</th>\n",
              "      <th>rms</th>\n",
              "    </tr>\n",
              "  </thead>\n",
              "  <tbody>\n",
              "    <tr>\n",
              "      <th>0</th>\n",
              "      <td>a0000001</td>\n",
              "      <td>2000001</td>\n",
              "      <td>1 Ceres</td>\n",
              "      <td>1</td>\n",
              "      <td>Ceres</td>\n",
              "      <td>NaN</td>\n",
              "      <td>N</td>\n",
              "      <td>N</td>\n",
              "      <td>3.40</td>\n",
              "      <td>939.400</td>\n",
              "      <td>...</td>\n",
              "      <td>4.608900e-09</td>\n",
              "      <td>6.168800e-08</td>\n",
              "      <td>6.624800e-08</td>\n",
              "      <td>7.820700e-09</td>\n",
              "      <td>1.111300e-11</td>\n",
              "      <td>1.196500e-12</td>\n",
              "      <td>3.782900e-08</td>\n",
              "      <td>9.415900e-09</td>\n",
              "      <td>MBA</td>\n",
              "      <td>0.43301</td>\n",
              "    </tr>\n",
              "    <tr>\n",
              "      <th>1</th>\n",
              "      <td>a0000002</td>\n",
              "      <td>2000002</td>\n",
              "      <td>2 Pallas</td>\n",
              "      <td>2</td>\n",
              "      <td>Pallas</td>\n",
              "      <td>NaN</td>\n",
              "      <td>N</td>\n",
              "      <td>N</td>\n",
              "      <td>4.20</td>\n",
              "      <td>545.000</td>\n",
              "      <td>...</td>\n",
              "      <td>3.469400e-06</td>\n",
              "      <td>6.272400e-06</td>\n",
              "      <td>9.128200e-06</td>\n",
              "      <td>8.859100e-06</td>\n",
              "      <td>4.961300e-09</td>\n",
              "      <td>4.653600e-10</td>\n",
              "      <td>4.078700e-05</td>\n",
              "      <td>3.680700e-06</td>\n",
              "      <td>MBA</td>\n",
              "      <td>0.35936</td>\n",
              "    </tr>\n",
              "    <tr>\n",
              "      <th>2</th>\n",
              "      <td>a0000003</td>\n",
              "      <td>2000003</td>\n",
              "      <td>3 Juno</td>\n",
              "      <td>3</td>\n",
              "      <td>Juno</td>\n",
              "      <td>NaN</td>\n",
              "      <td>N</td>\n",
              "      <td>N</td>\n",
              "      <td>5.33</td>\n",
              "      <td>246.596</td>\n",
              "      <td>...</td>\n",
              "      <td>3.223100e-06</td>\n",
              "      <td>1.664600e-05</td>\n",
              "      <td>1.772100e-05</td>\n",
              "      <td>8.110400e-06</td>\n",
              "      <td>4.363900e-09</td>\n",
              "      <td>4.413400e-10</td>\n",
              "      <td>3.528800e-05</td>\n",
              "      <td>3.107200e-06</td>\n",
              "      <td>MBA</td>\n",
              "      <td>0.33848</td>\n",
              "    </tr>\n",
              "    <tr>\n",
              "      <th>3</th>\n",
              "      <td>a0000004</td>\n",
              "      <td>2000004</td>\n",
              "      <td>4 Vesta</td>\n",
              "      <td>4</td>\n",
              "      <td>Vesta</td>\n",
              "      <td>NaN</td>\n",
              "      <td>N</td>\n",
              "      <td>N</td>\n",
              "      <td>3.00</td>\n",
              "      <td>525.400</td>\n",
              "      <td>...</td>\n",
              "      <td>2.170600e-07</td>\n",
              "      <td>3.880800e-07</td>\n",
              "      <td>1.789300e-07</td>\n",
              "      <td>1.206800e-06</td>\n",
              "      <td>1.648600e-09</td>\n",
              "      <td>2.612500e-10</td>\n",
              "      <td>4.103700e-06</td>\n",
              "      <td>1.274900e-06</td>\n",
              "      <td>MBA</td>\n",
              "      <td>0.39980</td>\n",
              "    </tr>\n",
              "    <tr>\n",
              "      <th>4</th>\n",
              "      <td>a0000005</td>\n",
              "      <td>2000005</td>\n",
              "      <td>5 Astraea</td>\n",
              "      <td>5</td>\n",
              "      <td>Astraea</td>\n",
              "      <td>NaN</td>\n",
              "      <td>N</td>\n",
              "      <td>N</td>\n",
              "      <td>6.90</td>\n",
              "      <td>106.699</td>\n",
              "      <td>...</td>\n",
              "      <td>2.740800e-06</td>\n",
              "      <td>2.894900e-05</td>\n",
              "      <td>2.984200e-05</td>\n",
              "      <td>8.303800e-06</td>\n",
              "      <td>4.729000e-09</td>\n",
              "      <td>5.522700e-10</td>\n",
              "      <td>3.474300e-05</td>\n",
              "      <td>3.490500e-06</td>\n",
              "      <td>MBA</td>\n",
              "      <td>0.52191</td>\n",
              "    </tr>\n",
              "  </tbody>\n",
              "</table>\n",
              "<p>5 rows × 45 columns</p>\n",
              "</div>\n",
              "      <button class=\"colab-df-convert\" onclick=\"convertToInteractive('df-e4db24fa-2910-4d1c-9ea0-b0464c32e528')\"\n",
              "              title=\"Convert this dataframe to an interactive table.\"\n",
              "              style=\"display:none;\">\n",
              "        \n",
              "  <svg xmlns=\"http://www.w3.org/2000/svg\" height=\"24px\"viewBox=\"0 0 24 24\"\n",
              "       width=\"24px\">\n",
              "    <path d=\"M0 0h24v24H0V0z\" fill=\"none\"/>\n",
              "    <path d=\"M18.56 5.44l.94 2.06.94-2.06 2.06-.94-2.06-.94-.94-2.06-.94 2.06-2.06.94zm-11 1L8.5 8.5l.94-2.06 2.06-.94-2.06-.94L8.5 2.5l-.94 2.06-2.06.94zm10 10l.94 2.06.94-2.06 2.06-.94-2.06-.94-.94-2.06-.94 2.06-2.06.94z\"/><path d=\"M17.41 7.96l-1.37-1.37c-.4-.4-.92-.59-1.43-.59-.52 0-1.04.2-1.43.59L10.3 9.45l-7.72 7.72c-.78.78-.78 2.05 0 2.83L4 21.41c.39.39.9.59 1.41.59.51 0 1.02-.2 1.41-.59l7.78-7.78 2.81-2.81c.8-.78.8-2.07 0-2.86zM5.41 20L4 18.59l7.72-7.72 1.47 1.35L5.41 20z\"/>\n",
              "  </svg>\n",
              "      </button>\n",
              "      \n",
              "  <style>\n",
              "    .colab-df-container {\n",
              "      display:flex;\n",
              "      flex-wrap:wrap;\n",
              "      gap: 12px;\n",
              "    }\n",
              "\n",
              "    .colab-df-convert {\n",
              "      background-color: #E8F0FE;\n",
              "      border: none;\n",
              "      border-radius: 50%;\n",
              "      cursor: pointer;\n",
              "      display: none;\n",
              "      fill: #1967D2;\n",
              "      height: 32px;\n",
              "      padding: 0 0 0 0;\n",
              "      width: 32px;\n",
              "    }\n",
              "\n",
              "    .colab-df-convert:hover {\n",
              "      background-color: #E2EBFA;\n",
              "      box-shadow: 0px 1px 2px rgba(60, 64, 67, 0.3), 0px 1px 3px 1px rgba(60, 64, 67, 0.15);\n",
              "      fill: #174EA6;\n",
              "    }\n",
              "\n",
              "    [theme=dark] .colab-df-convert {\n",
              "      background-color: #3B4455;\n",
              "      fill: #D2E3FC;\n",
              "    }\n",
              "\n",
              "    [theme=dark] .colab-df-convert:hover {\n",
              "      background-color: #434B5C;\n",
              "      box-shadow: 0px 1px 3px 1px rgba(0, 0, 0, 0.15);\n",
              "      filter: drop-shadow(0px 1px 2px rgba(0, 0, 0, 0.3));\n",
              "      fill: #FFFFFF;\n",
              "    }\n",
              "  </style>\n",
              "\n",
              "      <script>\n",
              "        const buttonEl =\n",
              "          document.querySelector('#df-e4db24fa-2910-4d1c-9ea0-b0464c32e528 button.colab-df-convert');\n",
              "        buttonEl.style.display =\n",
              "          google.colab.kernel.accessAllowed ? 'block' : 'none';\n",
              "\n",
              "        async function convertToInteractive(key) {\n",
              "          const element = document.querySelector('#df-e4db24fa-2910-4d1c-9ea0-b0464c32e528');\n",
              "          const dataTable =\n",
              "            await google.colab.kernel.invokeFunction('convertToInteractive',\n",
              "                                                     [key], {});\n",
              "          if (!dataTable) return;\n",
              "\n",
              "          const docLinkHtml = 'Like what you see? Visit the ' +\n",
              "            '<a target=\"_blank\" href=https://colab.research.google.com/notebooks/data_table.ipynb>data table notebook</a>'\n",
              "            + ' to learn more about interactive tables.';\n",
              "          element.innerHTML = '';\n",
              "          dataTable['output_type'] = 'display_data';\n",
              "          await google.colab.output.renderOutput(dataTable, element);\n",
              "          const docLink = document.createElement('div');\n",
              "          docLink.innerHTML = docLinkHtml;\n",
              "          element.appendChild(docLink);\n",
              "        }\n",
              "      </script>\n",
              "    </div>\n",
              "  </div>\n",
              "  "
            ]
          },
          "metadata": {},
          "execution_count": 9
        }
      ],
      "source": [
        "df.head()"
      ]
    },
    {
      "cell_type": "code",
      "execution_count": null,
      "metadata": {
        "colab": {
          "base_uri": "https://localhost:8080/"
        },
        "id": "aouh2vsV08iK",
        "outputId": "c9580321-0525-44ce-bf80-2a1a88ba9afd"
      },
      "outputs": [
        {
          "output_type": "stream",
          "name": "stdout",
          "text": [
            "<class 'pandas.core.frame.DataFrame'>\n",
            "RangeIndex: 958524 entries, 0 to 958523\n",
            "Data columns (total 45 columns):\n",
            " #   Column          Non-Null Count   Dtype  \n",
            "---  ------          --------------   -----  \n",
            " 0   id              958524 non-null  object \n",
            " 1   spkid           958524 non-null  int64  \n",
            " 2   full_name       958524 non-null  object \n",
            " 3   pdes            958524 non-null  object \n",
            " 4   name            22064 non-null   object \n",
            " 5   prefix          18 non-null      object \n",
            " 6   neo             958520 non-null  object \n",
            " 7   pha             938603 non-null  object \n",
            " 8   H               952261 non-null  float64\n",
            " 9   diameter        136209 non-null  float64\n",
            " 10  albedo          135103 non-null  float64\n",
            " 11  diameter_sigma  136081 non-null  float64\n",
            " 12  orbit_id        958524 non-null  object \n",
            " 13  epoch           958524 non-null  float64\n",
            " 14  epoch_mjd       958524 non-null  int64  \n",
            " 15  epoch_cal       958524 non-null  float64\n",
            " 16  equinox         958524 non-null  object \n",
            " 17  e               958524 non-null  float64\n",
            " 18  a               958524 non-null  float64\n",
            " 19  q               958524 non-null  float64\n",
            " 20  i               958524 non-null  float64\n",
            " 21  om              958524 non-null  float64\n",
            " 22  w               958524 non-null  float64\n",
            " 23  ma              958523 non-null  float64\n",
            " 24  ad              958520 non-null  float64\n",
            " 25  n               958524 non-null  float64\n",
            " 26  tp              958524 non-null  float64\n",
            " 27  tp_cal          958524 non-null  float64\n",
            " 28  per             958520 non-null  float64\n",
            " 29  per_y           958523 non-null  float64\n",
            " 30  moid            938603 non-null  float64\n",
            " 31  moid_ld         958397 non-null  float64\n",
            " 32  sigma_e         938602 non-null  float64\n",
            " 33  sigma_a         938602 non-null  float64\n",
            " 34  sigma_q         938602 non-null  float64\n",
            " 35  sigma_i         938602 non-null  float64\n",
            " 36  sigma_om        938602 non-null  float64\n",
            " 37  sigma_w         938602 non-null  float64\n",
            " 38  sigma_ma        938602 non-null  float64\n",
            " 39  sigma_ad        938598 non-null  float64\n",
            " 40  sigma_n         938602 non-null  float64\n",
            " 41  sigma_tp        938602 non-null  float64\n",
            " 42  sigma_per       938598 non-null  float64\n",
            " 43  class           958524 non-null  object \n",
            " 44  rms             958522 non-null  float64\n",
            "dtypes: float64(33), int64(2), object(10)\n",
            "memory usage: 329.1+ MB\n"
          ]
        }
      ],
      "source": [
        "df.info()"
      ]
    },
    {
      "cell_type": "markdown",
      "metadata": {
        "id": "iSNhV65u08iL"
      },
      "source": [
        "## Data Preprocessing"
      ]
    },
    {
      "cell_type": "code",
      "execution_count": null,
      "metadata": {
        "colab": {
          "base_uri": "https://localhost:8080/",
          "height": 666
        },
        "id": "kmOV5_s708iM",
        "outputId": "db8cc57c-d542-4637-e582-f558ba875a6e"
      },
      "outputs": [
        {
          "output_type": "display_data",
          "data": {
            "text/plain": [
              "<Figure size 1800x700 with 1 Axes>"
            ],
            "image/png": "[encoded data removed]"
          },
          "metadata": {}
        }
      ],
      "source": [
        "nan_counts = df.isnull().sum()\n",
        "\n",
        "# filter the nan_counts Series to include only columns with non-zero NaN counts\n",
        "nan_counts_filtered = nan_counts[nan_counts > 0]\n",
        "\n",
        "# create a bar chart of the filtered NaN counts\n",
        "plt.figure(figsize=(18, 7))\n",
        "nan_counts_filtered.plot(kind='bar')\n",
        "plt.title('Number of NaN Values by Column')\n",
        "plt.xlabel('Columns')\n",
        "plt.ylabel('Number of NaN Values')\n",
        "plt.show()\n"
      ]
    },
    {
      "cell_type": "code",
      "execution_count": null,
      "metadata": {
        "colab": {
          "base_uri": "https://localhost:8080/"
        },
        "id": "lBCNOlxZ08iN",
        "outputId": "a895ceb8-0a6e-43fd-96e1-e907d2e141f8"
      },
      "outputs": [
        {
          "output_type": "stream",
          "name": "stdout",
          "text": [
            "Percentage of missing values:\n",
            " name              97.698128\n",
            "prefix            99.998122\n",
            "neo                0.000417\n",
            "pha                2.078300\n",
            "H                  0.653400\n",
            "diameter          85.789714\n",
            "albedo            85.905100\n",
            "diameter_sigma    85.803068\n",
            "ma                 0.000104\n",
            "ad                 0.000417\n",
            "per                0.000417\n",
            "per_y              0.000104\n",
            "moid               2.078300\n",
            "moid_ld            0.013250\n",
            "sigma_e            2.078404\n",
            "sigma_a            2.078404\n",
            "sigma_q            2.078404\n",
            "sigma_i            2.078404\n",
            "sigma_om           2.078404\n",
            "sigma_w            2.078404\n",
            "sigma_ma           2.078404\n",
            "sigma_ad           2.078821\n",
            "sigma_n            2.078404\n",
            "sigma_tp           2.078404\n",
            "sigma_per          2.078821\n",
            "rms                0.000209\n",
            "dtype: float64\n"
          ]
        }
      ],
      "source": [
        "# Columns with missing values in Perentage\n",
        "missing_cols = df.isna().mean() * 100\n",
        "missing_cols = missing_cols[missing_cols > 0]\n",
        "print(\"Percentage of missing values:\\n\", missing_cols)"
      ]
    },
    {
      "cell_type": "code",
      "source": [
        "from scipy import stats\n",
        "\n",
        "\n",
        "# Check for missing values in the \"H\" attribute\n",
        "missing = df['H'].isna()\n",
        "\n",
        "# Prepare the data for Little's MCAR test\n",
        "observed = np.array([sum(~missing), sum(missing)])\n",
        "expected = np.array([len(df) * (1 - np.mean(missing)), len(df) * np.mean(missing)])\n",
        "\n",
        "# Conduct the test and calculate the p-value\n",
        "chi2, p_value = stats.chisquare(observed, f_exp=expected)\n",
        "print(p_value)\n",
        "# Interpret the results\n",
        "if p_value < 0.05:\n",
        "    print(\"The missing data mechanism for 'H' is not MCAR.\")\n",
        "else:\n",
        "    print(\"The missing data mechanism for 'H' is MCAR.\")"
      ],
      "metadata": {
        "colab": {
          "base_uri": "https://localhost:8080/"
        },
        "id": "gDRTcgEcl8i5",
        "outputId": "64407727-c75b-4a46-c281-55fc44b3eefc"
      },
      "execution_count": 3,
      "outputs": [
        {
          "output_type": "stream",
          "name": "stdout",
          "text": [
            "1.0\n",
            "The missing data mechanism for 'H' is MCAR.\n"
          ]
        }
      ]
    },
    {
      "cell_type": "code",
      "source": [
        "# Check for missing values in the \"diameter\" attribute\n",
        "missing = df['diameter'].isna()\n",
        "\n",
        "# Prepare the data for Little's MCAR test\n",
        "observed = np.array([sum(~missing), sum(missing)])\n",
        "expected = np.array([len(df) * (1 - np.mean(missing)), len(df) * np.mean(missing)])\n",
        "\n",
        "# Conduct the test and calculate the p-value\n",
        "chi2, p_value = stats.chisquare(observed, f_exp=expected)\n",
        "print(p_value)\n",
        "# Interpret the results\n",
        "if p_value < 0.05:\n",
        "    print(\"The missing data mechanism for 'diameter' is not MCAR.\")\n",
        "else:\n",
        "    print(\"The missing data mechanism for 'diameter' is MCAR.\")"
      ],
      "metadata": {
        "colab": {
          "base_uri": "https://localhost:8080/"
        },
        "id": "xXSBVZSel8pZ",
        "outputId": "4c43c3c3-5f7a-4bb1-8756-84b9319bc137"
      },
      "execution_count": 4,
      "outputs": [
        {
          "output_type": "stream",
          "name": "stdout",
          "text": [
            "0.999999999999937\n",
            "The missing data mechanism for 'diameter' is MCAR.\n"
          ]
        }
      ]
    },
    {
      "cell_type": "code",
      "source": [
        "# Check for missing values in the \"albedo\" attribute\n",
        "missing = df['albedo'].isna()\n",
        "\n",
        "# Prepare the data for Little's MCAR test\n",
        "observed = np.array([sum(~missing), sum(missing)])\n",
        "expected = np.array([len(df) * (1 - np.mean(missing)), len(df) * np.mean(missing)])\n",
        "\n",
        "# Conduct the test and calculate the p-value\n",
        "chi2, p_value = stats.chisquare(observed, f_exp=expected)\n",
        "print(p_value)\n",
        "# Interpret the results\n",
        "if p_value < 0.05:\n",
        "    print(\"The missing data mechanism for 'albedo' is not MCAR.\")\n",
        "else:\n",
        "    print(\"The missing data mechanism for 'albedo' is MCAR.\")"
      ],
      "metadata": {
        "colab": {
          "base_uri": "https://localhost:8080/"
        },
        "id": "2t9pxp-gl8wY",
        "outputId": "8aa2ba4a-5ec3-4610-fd96-7f0d370e8980"
      },
      "execution_count": 5,
      "outputs": [
        {
          "output_type": "stream",
          "name": "stdout",
          "text": [
            "0.9999999999999368\n",
            "The missing data mechanism for 'albedo' is MCAR.\n"
          ]
        }
      ]
    },
    {
      "cell_type": "code",
      "source": [
        "# Check for missing values in the \"diameter_sigma\" attribute\n",
        "missing = df['diameter_sigma'].isna()\n",
        "\n",
        "# Prepare the data for Little's MCAR test\n",
        "observed = np.array([sum(~missing), sum(missing)])\n",
        "expected = np.array([len(df) * (1 - np.mean(missing)), len(df) * np.mean(missing)])\n",
        "\n",
        "# Conduct the test and calculate the p-value\n",
        "chi2, p_value = stats.chisquare(observed, f_exp=expected)\n",
        "print(p_value)\n",
        "# Interpret the results\n",
        "if p_value < 0.05:\n",
        "    print(\"The missing data mechanism for 'diameter_sigma' is not MCAR.\")\n",
        "else:\n",
        "    print(\"The missing data mechanism for 'diameter_sigma' is MCAR.\")"
      ],
      "metadata": {
        "colab": {
          "base_uri": "https://localhost:8080/"
        },
        "id": "tqURp41Kl89a",
        "outputId": "63aadcd2-74d4-4998-c058-67ef6d98e018"
      },
      "execution_count": 6,
      "outputs": [
        {
          "output_type": "stream",
          "name": "stdout",
          "text": [
            "1.0\n",
            "The missing data mechanism for 'diameter_sigma' is MCAR.\n"
          ]
        }
      ]
    },
    {
      "cell_type": "markdown",
      "metadata": {
        "id": "az9WhZrS08iN"
      },
      "source": [
        " 1.  97% of the **name** column is null. Since the **full_name** column includes **pdes** and **name** and no null in this column, pdes and name columns could be removed.\n",
        " \n",
        " 2. prefix refers to asteroid prefix and 99.9% of this column is null. It could be removed because it does not contribute on EDA or modeling.\n",
        " \n",
        "3. About 86% null in each **diameter, albedo, and diameter_sigma** column. These attributes descripe the size of asteriod, and **H**, which refer to absolute magnitude parameter, could descripe the size of asteriod too. Additional, values in these three columns are specific to each unique asteroid, and replacing mean or median will lead to inaccurate subsequent analysis and model construction. Thus, removing **diameter, albedo, and diameter_sigma** column.\n",
        " \n",
        "4. For Columns which has around 2% missing values, we dropped them\n",
        "\n"
      ]
    },
    {
      "cell_type": "code",
      "execution_count": 8,
      "metadata": {
        "id": "HdcNEXei08iS"
      },
      "outputs": [],
      "source": [
        "# Remove the column which will not facilitate the analysis\n",
        "no_null_data=df.drop(['pdes', 'name', 'prefix', 'diameter', 'albedo', 'diameter_sigma'], axis=1)\n",
        "\n",
        "# Remove the row that includes null value\n",
        "no_null_data=no_null_data.dropna().reset_index(drop=True)"
      ]
    },
    {
      "cell_type": "code",
      "execution_count": 9,
      "metadata": {
        "id": "C2XLFiED08iT"
      },
      "outputs": [],
      "source": [
        "# Convert column data type\n",
        "no_null_data['spkid'] = no_null_data['spkid'].astype(str)\n"
      ]
    },
    {
      "cell_type": "code",
      "execution_count": null,
      "metadata": {
        "id": "Tq078nPU08iT"
      },
      "outputs": [],
      "source": [
        "# Save no null dataset in csv for preparing EDA\n",
        "# no_null_data.to_csv('no_null_dataset.csv')\n"
      ]
    },
    {
      "cell_type": "markdown",
      "metadata": {
        "id": "uH62YSsa08iV"
      },
      "source": [
        "## Expolatory Data Analysis"
      ]
    },
    {
      "cell_type": "code",
      "execution_count": null,
      "metadata": {
        "colab": {
          "base_uri": "https://localhost:8080/",
          "height": 1000
        },
        "id": "4_JeAfsQ08iW",
        "outputId": "f41b9a18-d6da-48d8-fd7f-f125616c8063"
      },
      "outputs": [
        {
          "output_type": "display_data",
          "data": {
            "text/plain": [
              "<Figure size 1000x500 with 2 Axes>"
            ],
            "image/png": "[encoded data removed]"
          },
          "metadata": {}
        },
        {
          "output_type": "display_data",
          "data": {
            "text/plain": [
              "<Figure size 1200x700 with 1 Axes>"
            ],
            "image/png": "[encoded data removed]"
          },
          "metadata": {}
        }
      ],
      "source": [
        "\n",
        "\n",
        "# Figure with two subplots\n",
        "fig, axs = plt.subplots(ncols=2, figsize=(10, 5))\n",
        "\n",
        "#  Count plot of the \"neo\" variable on the left subplot\n",
        "sns.countplot(x='neo', data=df, ax=axs[0])\n",
        "axs[0].set_title('Near Earth Objects')\n",
        "\n",
        "# Add percentage labels to the left subplot\n",
        "total = float(len(df.neo))\n",
        "for p in axs[0].patches:\n",
        "    percentage = '{:.1f}%'.format(100 * p.get_height()/total)\n",
        "    x = p.get_x() + p.get_width() / 2 - 0.1\n",
        "    y = p.get_y() + p.get_height() + 3\n",
        "    axs[0].annotate(percentage, (x, y))\n",
        "\n",
        "#  Count plot of the \"pha\" variable on the right subplot\n",
        "sns.countplot(x='pha', data=df, ax=axs[1])\n",
        "axs[1].set_title('Potentially Hazardous Asteroids')\n",
        "\n",
        "# Add percentage labels to the right subplot\n",
        "total = float(len(df.pha))\n",
        "for p in axs[1].patches:\n",
        "    percentage = '{:.1f}%'.format(100 * p.get_height()/total)\n",
        "    x = p.get_x() + p.get_width() / 2 - 0.1\n",
        "    y = p.get_y() + p.get_height() + 3\n",
        "    axs[1].annotate(percentage, (x, y))\n",
        "\n",
        "# Adjust the spacing between the subplots\n",
        "fig.tight_layout()\n",
        "\n",
        "# Show the plot\n",
        "plt.show()\n",
        "\n",
        "# Count plot for Orbit Class\n",
        "fig, ax = plt.subplots(figsize=(12, 7))\n",
        "sns.countplot(x='class', data=df, ax=ax)\n",
        "plt.title('Orbit Class')\n",
        "\n",
        "\n",
        "plt.show()\n"
      ]
    },
    {
      "cell_type": "markdown",
      "metadata": {
        "id": "HforySUz08iW"
      },
      "source": [
        "- The dataset is highly unbalanced, 2.4% are **Near Earth Objects** and out of those only **0.2%** are Hazaerdous Asteriods\n",
        "\n",
        "-  Out of 12 Orbit classes most of the orbit class is  of  **MBA** , which is around **89%.**"
      ]
    },
    {
      "cell_type": "markdown",
      "metadata": {
        "id": "TbLoFguQ08iX"
      },
      "source": [
        "## Data Preprocessing"
      ]
    },
    {
      "cell_type": "code",
      "execution_count": 10,
      "metadata": {
        "id": "IHrbn1B_08iX"
      },
      "outputs": [],
      "source": [
        "from sklearn.calibration import LabelEncoder\n",
        "\n",
        "# Remove identifying columns\n",
        "data=no_null_data.drop(['id', 'spkid', 'full_name', 'orbit_id', 'equinox'], axis=1).reset_index(drop=True)\n",
        "\n",
        "# Encode categorical features and target\n",
        "one_hot_encoded_data = pd.get_dummies(data, columns=['neo', 'class'])\n",
        "one_hot_encoded_data['pha'] = LabelEncoder(\n",
        ").fit_transform(one_hot_encoded_data['pha'])\n"
      ]
    },
    {
      "cell_type": "code",
      "execution_count": 11,
      "metadata": {
        "colab": {
          "base_uri": "https://localhost:8080/"
        },
        "id": "X5av0ul308iZ",
        "outputId": "6f31b9d0-8dbe-4134-a0e4-f73b39f092de"
      },
      "outputs": [
        {
          "output_type": "stream",
          "name": "stdout",
          "text": [
            "Shape of original dataset : (932335, 46)\n",
            "Shape of x_train set (559401, 45)\n",
            "Shape of y_train set (559401, 1)\n",
            "Shape of x_validation set (186467, 45)\n",
            "Shape of y_validation set (186467, 1)\n",
            "Shape of x_test set (186467, 45)\n",
            "Shape of y_test set (186467, 1)\n"
          ]
        }
      ],
      "source": [
        "from sklearn.model_selection import train_test_split\n",
        "\n",
        "# Split train, validation, and test sets\n",
        "x = one_hot_encoded_data.drop('pha', axis=1)\n",
        "y = one_hot_encoded_data['pha'].to_frame()\n",
        "x_train, x_test, y_train, y_test = train_test_split(\n",
        "    x, y, test_size=0.4, random_state=100, stratify=y)\n",
        "x_val, x_test, y_val, y_test = train_test_split(\n",
        "    x_test, y_test, test_size=0.5, random_state=100, stratify=y_test)\n",
        "print(\"Shape of original dataset :\", one_hot_encoded_data.shape)\n",
        "print(\"Shape of x_train set\", x_train.shape)\n",
        "print(\"Shape of y_train set\", y_train.shape)\n",
        "print(\"Shape of x_validation set\", x_val.shape)\n",
        "print(\"Shape of y_validation set\", y_val.shape)\n",
        "print(\"Shape of x_test set\", x_test.shape)\n",
        "print(\"Shape of y_test set\", y_test.shape)\n"
      ]
    },
    {
      "cell_type": "code",
      "execution_count": null,
      "metadata": {
        "id": "IF_Vd7Uk08iZ"
      },
      "outputs": [],
      "source": [
        "from sklearn.preprocessing import StandardScaler\n",
        "\n",
        "# Normalizing the features\n",
        "# Normalizing after splitting could prevent leaking information about the validation set into the train set\n",
        "# StandardScaler() is useful in classification and Normalizer() is useful in regression\n",
        "x_train = StandardScaler().fit_transform(x_train)\n",
        "x_val = StandardScaler().fit_transform(x_val)\n",
        "x_test = StandardScaler().fit_transform(x_test)"
      ]
    },
    {
      "cell_type": "code",
      "execution_count": null,
      "metadata": {
        "colab": {
          "base_uri": "https://localhost:8080/"
        },
        "id": "Iu9MiP3708ip",
        "outputId": "5d53f903-c65f-423d-ea17-704e53629f9a"
      },
      "outputs": [
        {
          "output_type": "execute_result",
          "data": {
            "text/plain": [
              "pha\n",
              "0      558161\n",
              "1        1240\n",
              "dtype: int64"
            ]
          },
          "metadata": {},
          "execution_count": 29
        }
      ],
      "source": [
        "# Imbalance in target variable\n",
        "y_train.value_counts()\n"
      ]
    },
    {
      "cell_type": "markdown",
      "metadata": {
        "id": "iEaFsl9D08iq"
      },
      "source": [
        "### Fixed the Imbalancing of the dataset with SMOTE and RandomUnderSampler"
      ]
    },
    {
      "cell_type": "code",
      "execution_count": 12,
      "metadata": {
        "colab": {
          "base_uri": "https://localhost:8080/"
        },
        "id": "ns1W76N508iq",
        "outputId": "b7e9ce5f-4ac4-4f94-af14-df65eebf9867"
      },
      "outputs": [
        {
          "output_type": "execute_result",
          "data": {
            "text/plain": [
              "pha\n",
              "0      558161\n",
              "1      279080\n",
              "dtype: int64"
            ]
          },
          "metadata": {},
          "execution_count": 12
        }
      ],
      "source": [
        "from imblearn.over_sampling import SMOTE\n",
        "\n",
        "# Data Upsampling - SMOTE\n",
        "x_train_us, y_train_us = SMOTE(\n",
        "    sampling_strategy=0.5, random_state=100).fit_resample(x_train, y_train)\n",
        "y_train_us.value_counts()\n"
      ]
    },
    {
      "cell_type": "code",
      "execution_count": 13,
      "metadata": {
        "colab": {
          "base_uri": "https://localhost:8080/"
        },
        "id": "_06tObUr08iq",
        "outputId": "053a2a49-c4e2-4676-cf35-7a7acda382e0"
      },
      "outputs": [
        {
          "output_type": "execute_result",
          "data": {
            "text/plain": [
              "pha\n",
              "0      279080\n",
              "1      279080\n",
              "dtype: int64"
            ]
          },
          "metadata": {},
          "execution_count": 13
        }
      ],
      "source": [
        "from imblearn.under_sampling import RandomUnderSampler\n",
        "\n",
        "# Data Undersampling - Random Undersampling\n",
        "random_under_sampling = RandomUnderSampler(random_state=100)\n",
        "x_train_us_rus, y_train_us_rus = random_under_sampling.fit_resample(x_train_us, y_train_us)\n",
        "\n",
        "y_train_us_rus.value_counts()\n"
      ]
    },
    {
      "cell_type": "code",
      "source": [
        "from imblearn.over_sampling import SMOTE\n",
        "\n",
        "# Data Upsampling - SMOTE\n",
        "x_train_SMOTE, y_train_SMOTE = SMOTE(\n",
        "    sampling_strategy=0.5, random_state=100).fit_resample(x_train, y_train)\n",
        "y_train_SMOTE.value_counts()\n",
        "\n",
        "# Data Undersampling - Random Undersampling\n",
        "random_under_SAMPLING = RandomUnderSampler(random_state=100)\n",
        "x_train_us_UNDER, y_train_us_UNDER = random_under_SAMPLING.fit_resample(x_train_SMOTE, y_train_SMOTE)\n",
        "\n",
        "\n",
        "y_train_us_UNDER['pha'] = y_train_us_UNDER['pha'].map({0: 'N', 1: 'Y'})\n",
        "\n",
        "ax = sns.countplot(x=\"pha\", data=y_train_us_UNDER)\n",
        "total = float(len(y_train_us_UNDER))\n",
        "for p in ax.patches:\n",
        "    height = p.get_height()\n",
        "    ax.text(p.get_x()+p.get_width()/2., height + 3, '{:.2f}%'.format(100*height/total), ha=\"center\")\n",
        "plt.show()"
      ],
      "metadata": {
        "colab": {
          "base_uri": "https://localhost:8080/",
          "height": 449
        },
        "id": "b-5JjBKvl390",
        "outputId": "6733c401-16b5-4f6f-f290-123b1d0c6f7e"
      },
      "execution_count": 14,
      "outputs": [
        {
          "output_type": "display_data",
          "data": {
            "text/plain": [
              "<Figure size 640x480 with 1 Axes>"
            ],
            "image/png": "[encoded data removed]"
          },
          "metadata": {}
        }
      ]
    },
    {
      "cell_type": "markdown",
      "metadata": {
        "id": "26qZPVik08ir"
      },
      "source": [
        "# Implementing Machine Learning Models\n"
      ]
    },
    {
      "cell_type": "markdown",
      "metadata": {
        "id": "OV9uge_B08ir"
      },
      "source": [
        "## RandomForest"
      ]
    },
    {
      "cell_type": "code",
      "execution_count": null,
      "metadata": {
        "colab": {
          "base_uri": "https://localhost:8080/"
        },
        "id": "_QZj8-2708ir",
        "outputId": "aa639784-a343-4148-ba3f-3a9514d7ec89"
      },
      "outputs": [
        {
          "output_type": "stream",
          "name": "stdout",
          "text": [
            "              precision    recall  f1-score   support\n",
            "\n",
            "           0       1.00      1.00      1.00    186054\n",
            "           1       0.98      0.43      0.60       413\n",
            "\n",
            "    accuracy                           1.00    186467\n",
            "   macro avg       0.99      0.71      0.80    186467\n",
            "weighted avg       1.00      1.00      1.00    186467\n",
            "\n"
          ]
        }
      ],
      "source": [
        "from sklearn.ensemble import RandomForestClassifier\n",
        "from sklearn.metrics import precision_score, recall_score, f1_score, classification_report\n",
        "\n",
        "\n",
        "rfc = RandomForestClassifier(class_weight='balanced', random_state=100)\n",
        "# Skip Hyperparameter Tuning part because parameter with dafult value get the highest accuracy of model\n",
        "\n",
        "rfc.fit(x_train_us_rus, y_train_us_rus)\n",
        "\n",
        "# Predict for validation set\n",
        "y_val_pred = rfc.predict(x_val)\n",
        "\n",
        "# Metrics\n",
        "precision_rfc, recall_rfc, fscore_rfc, support_rfc = precision_recall_fscore_support(\n",
        "    y_val, y_val_pred, average='macro')\n",
        "print(classification_report(y_val, y_val_pred))\n",
        "\n",
        "\n"
      ]
    },
    {
      "cell_type": "markdown",
      "metadata": {
        "id": "DGcd76Q208ir"
      },
      "source": [
        "## Logistic Regression"
      ]
    },
    {
      "cell_type": "code",
      "execution_count": null,
      "metadata": {
        "colab": {
          "base_uri": "https://localhost:8080/"
        },
        "id": "p5Y52KYM08ir",
        "outputId": "5306c21e-5ffa-4200-a66d-e64f626e8f0a"
      },
      "outputs": [
        {
          "output_type": "stream",
          "name": "stdout",
          "text": [
            "              precision    recall  f1-score   support\n",
            "\n",
            "           0       1.00      0.99      1.00    186054\n",
            "           1       0.25      1.00      0.40       413\n",
            "\n",
            "    accuracy                           0.99    186467\n",
            "   macro avg       0.62      1.00      0.70    186467\n",
            "weighted avg       1.00      0.99      1.00    186467\n",
            "\n"
          ]
        }
      ],
      "source": [
        "from sklearn.linear_model import LogisticRegression\n",
        "from sklearn.metrics import classification_report, precision_recall_fscore_support\n",
        "\n",
        "from sklearn.linear_model import LogisticRegression\n",
        "from sklearn.metrics import precision_score, recall_score, f1_score, classification_report\n",
        "lr = LogisticRegression()\n",
        "\n",
        "lr.fit(x_train_us_rus, y_train_us_rus)\n",
        "# Predict for validation set\n",
        "y_val_pred = lr.predict(x_val)\n",
        "\n",
        "# Metrics\n",
        "precision_lr, recall_lr, fscore_lr, support_lr = precision_recall_fscore_support(\n",
        "    y_val, y_val_pred, average='macro')\n",
        "print(classification_report(y_val, y_val_pred))\n"
      ]
    },
    {
      "cell_type": "markdown",
      "source": [
        "# Decision Tree"
      ],
      "metadata": {
        "id": "5zUVtqOaAa0R"
      }
    },
    {
      "cell_type": "code",
      "source": [
        "\n",
        "\n",
        "dtc=DecisionTreeClassifier(class_weight='balanced', random_state=100)\n",
        "\n",
        "dtc.fit(x_train_us_rus, y_train_us_rus)\n",
        "# Predict for validation set\n",
        "y_val_pred=dtc.predict(x_val)\n",
        "\n",
        "# Metrics\n",
        "precision_dtc, recall_dtc, fscore_dtc, support_dtc = precision_recall_fscore_support(y_val, y_val_pred, average='macro')\n",
        "print(classification_report(y_val, y_val_pred))\n",
        "\n"
      ],
      "metadata": {
        "colab": {
          "base_uri": "https://localhost:8080/"
        },
        "id": "0BTJLNGtAZ9P",
        "outputId": "85476f8e-4f0d-4026-a852-9336e49239b1"
      },
      "execution_count": null,
      "outputs": [
        {
          "output_type": "stream",
          "name": "stdout",
          "text": [
            "              precision    recall  f1-score   support\n",
            "\n",
            "           0       1.00      1.00      1.00    186054\n",
            "           1       0.94      0.43      0.59       413\n",
            "\n",
            "    accuracy                           1.00    186467\n",
            "   macro avg       0.97      0.72      0.80    186467\n",
            "weighted avg       1.00      1.00      1.00    186467\n",
            "\n"
          ]
        }
      ]
    },
    {
      "cell_type": "markdown",
      "source": [
        "# Naive Bayes Classifier"
      ],
      "metadata": {
        "id": "BGhf22DoAtqp"
      }
    },
    {
      "cell_type": "code",
      "source": [
        "\n",
        "\n",
        "gnb=GaussianNB()\n",
        "\n",
        "gnb.fit(x_train_us_rus, y_train_us_rus)\n",
        "# Predict for validation set\n",
        "y_val_pred=gnb.predict(x_val)\n",
        "\n",
        "# Metrics\n",
        "precision_gnb, recall_gnb, fscore_gnb, support_gnb=precision_recall_fscore_support(y_val, y_val_pred, average='macro')\n",
        "print (classification_report(y_val, y_val_pred))\n"
      ],
      "metadata": {
        "colab": {
          "base_uri": "https://localhost:8080/"
        },
        "id": "MERRd__aArJ3",
        "outputId": "8e5f5176-32eb-476f-a985-51bf2f0b7c70"
      },
      "execution_count": null,
      "outputs": [
        {
          "output_type": "stream",
          "name": "stdout",
          "text": [
            "              precision    recall  f1-score   support\n",
            "\n",
            "           0       1.00      1.00      1.00    186054\n",
            "           1       0.00      0.00      0.00       413\n",
            "\n",
            "    accuracy                           1.00    186467\n",
            "   macro avg       0.50      0.50      0.50    186467\n",
            "weighted avg       1.00      1.00      1.00    186467\n",
            "\n"
          ]
        }
      ]
    },
    {
      "cell_type": "markdown",
      "source": [
        "# XG Boost\n"
      ],
      "metadata": {
        "id": "1YadBIa8B1ET"
      }
    },
    {
      "cell_type": "code",
      "execution_count": null,
      "metadata": {
        "colab": {
          "base_uri": "https://localhost:8080/"
        },
        "id": "8QX7ZHo908is",
        "outputId": "94605a0d-dc9c-4185-ba60-e3663b601720"
      },
      "outputs": [
        {
          "output_type": "stream",
          "name": "stdout",
          "text": [
            "Precision: 0.97\n",
            "Recall: 0.14\n",
            "F1 score: 0.25\n",
            "              precision    recall  f1-score   support\n",
            "\n",
            "           0       1.00      1.00      1.00    186054\n",
            "           1       0.97      0.14      0.25       413\n",
            "\n",
            "    accuracy                           1.00    186467\n",
            "   macro avg       0.98      0.57      0.62    186467\n",
            "weighted avg       1.00      1.00      1.00    186467\n",
            "\n"
          ]
        }
      ],
      "source": [
        "from xgboost import XGBClassifier\n",
        "\n",
        "\n",
        "xgbc = XGBClassifier(max_depth=10, learning_rate=0.1,\n",
        "                     n_estimators=1000, eval_metric='mlogloss', random_state=100)\n",
        "\n",
        "# Train the model on the training set\n",
        "xgbc.fit(x_train, y_train)\n",
        "\n",
        "# Make predictions on the testing set\n",
        "y_pred = xgbc.predict(x_test)\n",
        "\n",
        "# Calculate precision, recall, and f1 score\n",
        "precision_xgbc = precision_score(y_test, y_pred)\n",
        "recall_xgbc = recall_score(y_test, y_pred)\n",
        "fscore_xgbc = f1_score(y_test, y_pred)\n",
        "\n",
        "# Print precision, recall, and f1 score\n",
        "print(f\"Precision: {precision_xgbc:.2f}\")\n",
        "print(f\"Recall: {recall_xgbc:.2f}\")\n",
        "print(f\"F1 score: {fscore_xgbc:.2f}\")\n",
        "\n",
        "# Print classification report\n",
        "print(classification_report(y_test, y_pred))\n"
      ]
    },
    {
      "cell_type": "markdown",
      "source": [
        "# KNN"
      ],
      "metadata": {
        "id": "BRT8Sw26Bd3C"
      }
    },
    {
      "cell_type": "code",
      "source": [
        "knc=KNeighborsClassifier(n_neighbors=1)\n",
        "knc.fit(x_train_us_rus, y_train_us_rus)\n",
        "# Predict for test set\n",
        "y_test_pred=knc.predict(x_test)\n",
        "\n",
        "# Metrics\n",
        "precision_knc, recall_knc, fscore_knc, support_knc=precision_recall_fscore_support(y_test, y_test_pred, average='macro')\n",
        "print(classification_report(y_test, y_test_pred))"
      ],
      "metadata": {
        "colab": {
          "base_uri": "https://localhost:8080/"
        },
        "id": "kbZdgUSJBfOY",
        "outputId": "f9901cd5-1d13-4239-f13e-f7f4d2dbade3"
      },
      "execution_count": null,
      "outputs": [
        {
          "output_type": "stream",
          "name": "stdout",
          "text": [
            "              precision    recall  f1-score   support\n",
            "\n",
            "           0       1.00      1.00      1.00    186054\n",
            "           1       0.31      0.69      0.43       413\n",
            "\n",
            "    accuracy                           1.00    186467\n",
            "   macro avg       0.65      0.84      0.71    186467\n",
            "weighted avg       1.00      1.00      1.00    186467\n",
            "\n"
          ]
        }
      ]
    },
    {
      "cell_type": "markdown",
      "source": [
        "# Neural Network\n",
        "\n",
        "## Multilayer Perceptron Model (MLP Model)"
      ],
      "metadata": {
        "id": "IGHz_LK6B-Ft"
      }
    },
    {
      "cell_type": "code",
      "execution_count": null,
      "metadata": {
        "id": "_dv6lJgO08is"
      },
      "outputs": [],
      "source": [
        "# Model Structure\n",
        "dl_model=Sequential()\n",
        "dl_model.add(Dense(10, activation='relu', input_shape=(45,)))\n",
        "dl_model.add(BatchNormalization())\n",
        "dl_model.add(Dense(200, activation='relu'))\n",
        "dl_model.add(BatchNormalization())\n",
        "dl_model.add(Dropout(0.05))\n",
        "dl_model.add(Dense(200, activation='relu'))\n",
        "dl_model.add(BatchNormalization())\n",
        "dl_model.add(Dense(1, activation='sigmoid'))"
      ]
    },
    {
      "cell_type": "code",
      "source": [
        "dl_model.summary()"
      ],
      "metadata": {
        "colab": {
          "base_uri": "https://localhost:8080/"
        },
        "id": "OFc0GvLB4k8M",
        "outputId": "0ac2530d-f268-47c1-bc7a-13a605f25a08"
      },
      "execution_count": null,
      "outputs": [
        {
          "output_type": "stream",
          "name": "stdout",
          "text": [
            "Model: \"sequential\"\n",
            "_________________________________________________________________\n",
            " Layer (type)                Output Shape              Param #   \n",
            "=================================================================\n",
            " dense (Dense)               (None, 10)                460       \n",
            "                                                                 \n",
            " batch_normalization (BatchN  (None, 10)               40        \n",
            " ormalization)                                                   \n",
            "                                                                 \n",
            " dense_1 (Dense)             (None, 200)               2200      \n",
            "                                                                 \n",
            " batch_normalization_1 (Batc  (None, 200)              800       \n",
            " hNormalization)                                                 \n",
            "                                                                 \n",
            " dropout (Dropout)           (None, 200)               0         \n",
            "                                                                 \n",
            " dense_2 (Dense)             (None, 200)               40200     \n",
            "                                                                 \n",
            " batch_normalization_2 (Batc  (None, 200)              800       \n",
            " hNormalization)                                                 \n",
            "                                                                 \n",
            " dense_3 (Dense)             (None, 1)                 201       \n",
            "                                                                 \n",
            "=================================================================\n",
            "Total params: 44,701\n",
            "Trainable params: 43,881\n",
            "Non-trainable params: 820\n",
            "_________________________________________________________________\n"
          ]
        }
      ]
    },
    {
      "cell_type": "code",
      "source": [
        "# Compile the model\n",
        "dl_model.compile(optimizer=Adam(lr=0.001), loss='binary_crossentropy', metrics=['accuracy'])"
      ],
      "metadata": {
        "colab": {
          "base_uri": "https://localhost:8080/"
        },
        "id": "P1Q9pHWy4k_A",
        "outputId": "328f8d93-d426-4b92-98a2-bdf9511591b9"
      },
      "execution_count": null,
      "outputs": [
        {
          "output_type": "stream",
          "name": "stderr",
          "text": [
            "WARNING:absl:`lr` is deprecated in Keras optimizer, please use `learning_rate` or use the legacy optimizer, e.g.,tf.keras.optimizers.legacy.Adam.\n"
          ]
        }
      ]
    },
    {
      "cell_type": "code",
      "source": [
        "\n",
        "# Set callback\n",
        "model_checkpoint_cb=ModelCheckpoint(filepath='MLP_model.h5',\n",
        "                                    save_best_only=True,\n",
        "                                    save_weights_only=True)\n",
        "early_stopping_cb=EarlyStopping(monitor='val_loss', \n",
        "                                mode='min',\n",
        "                                verbose=1, \n",
        "                                patience=15, \n",
        "                                restore_best_weights=True)\n",
        "reducelr_on_plateau_cb=ReduceLROnPlateau(factor=0.05, patience=3)"
      ],
      "metadata": {
        "id": "eEvhk3d-4lEQ"
      },
      "execution_count": null,
      "outputs": []
    },
    {
      "cell_type": "code",
      "source": [
        "dl_model_history=dl_model.fit(x_train_us_rus,y_train_us_rus, \n",
        "                              epochs=100, \n",
        "                              batch_size=110, \n",
        "                              validation_data=(x_val,y_val),\n",
        "                              callbacks=[model_checkpoint_cb, early_stopping_cb, reducelr_on_plateau_cb])"
      ],
      "metadata": {
        "colab": {
          "base_uri": "https://localhost:8080/"
        },
        "id": "u8PLvhGo4lHr",
        "outputId": "ade81470-5bdb-4e27-b85a-251dfeaaa506"
      },
      "execution_count": null,
      "outputs": [
        {
          "output_type": "stream",
          "name": "stdout",
          "text": [
            "Epoch 1/100\n",
            "5075/5075 [==============================] - 22s 4ms/step - loss: 0.0233 - accuracy: 0.9949 - val_loss: 0.0377 - val_accuracy: 0.9911 - lr: 0.0010\n",
            "Epoch 2/100\n",
            "5075/5075 [==============================] - 21s 4ms/step - loss: 0.0168 - accuracy: 0.9966 - val_loss: 0.0202 - val_accuracy: 0.9951 - lr: 0.0010\n",
            "Epoch 3/100\n",
            "5075/5075 [==============================] - 20s 4ms/step - loss: 0.0151 - accuracy: 0.9971 - val_loss: 0.0257 - val_accuracy: 0.9941 - lr: 0.0010\n",
            "Epoch 4/100\n",
            "5075/5075 [==============================] - 20s 4ms/step - loss: 0.0144 - accuracy: 0.9973 - val_loss: 0.0238 - val_accuracy: 0.9947 - lr: 0.0010\n",
            "Epoch 5/100\n",
            "5075/5075 [==============================] - 21s 4ms/step - loss: 0.0136 - accuracy: 0.9974 - val_loss: 0.0186 - val_accuracy: 0.9959 - lr: 0.0010\n",
            "Epoch 6/100\n",
            "5075/5075 [==============================] - 20s 4ms/step - loss: 0.0127 - accuracy: 0.9975 - val_loss: 0.0097 - val_accuracy: 0.9969 - lr: 0.0010\n",
            "Epoch 7/100\n",
            "5075/5075 [==============================] - 20s 4ms/step - loss: 0.0071 - accuracy: 0.9984 - val_loss: 0.0067 - val_accuracy: 0.9981 - lr: 0.0010\n",
            "Epoch 8/100\n",
            "5075/5075 [==============================] - 20s 4ms/step - loss: 0.0055 - accuracy: 0.9987 - val_loss: 0.0047 - val_accuracy: 0.9985 - lr: 0.0010\n",
            "Epoch 9/100\n",
            "5075/5075 [==============================] - 20s 4ms/step - loss: 0.0048 - accuracy: 0.9989 - val_loss: 0.0096 - val_accuracy: 0.9980 - lr: 0.0010\n",
            "Epoch 10/100\n",
            "5075/5075 [==============================] - 20s 4ms/step - loss: 0.0043 - accuracy: 0.9990 - val_loss: 0.0023 - val_accuracy: 0.9992 - lr: 0.0010\n",
            "Epoch 11/100\n",
            "5075/5075 [==============================] - 20s 4ms/step - loss: 0.0041 - accuracy: 0.9990 - val_loss: 0.0025 - val_accuracy: 0.9992 - lr: 0.0010\n",
            "Epoch 12/100\n",
            "5075/5075 [==============================] - 21s 4ms/step - loss: 0.0039 - accuracy: 0.9991 - val_loss: 0.0019 - val_accuracy: 0.9993 - lr: 0.0010\n",
            "Epoch 13/100\n",
            "5075/5075 [==============================] - 21s 4ms/step - loss: 0.0037 - accuracy: 0.9991 - val_loss: 0.0023 - val_accuracy: 0.9991 - lr: 0.0010\n",
            "Epoch 14/100\n",
            "5075/5075 [==============================] - 20s 4ms/step - loss: 0.0036 - accuracy: 0.9991 - val_loss: 0.0063 - val_accuracy: 0.9984 - lr: 0.0010\n",
            "Epoch 15/100\n",
            "5075/5075 [==============================] - 21s 4ms/step - loss: 0.0035 - accuracy: 0.9991 - val_loss: 0.0042 - val_accuracy: 0.9989 - lr: 0.0010\n",
            "Epoch 16/100\n",
            "5075/5075 [==============================] - 21s 4ms/step - loss: 0.0016 - accuracy: 0.9996 - val_loss: 0.0088 - val_accuracy: 0.9986 - lr: 5.0000e-05\n",
            "Epoch 17/100\n",
            "5075/5075 [==============================] - 20s 4ms/step - loss: 0.0013 - accuracy: 0.9997 - val_loss: 0.0075 - val_accuracy: 0.9988 - lr: 5.0000e-05\n",
            "Epoch 18/100\n",
            "5075/5075 [==============================] - 20s 4ms/step - loss: 0.0013 - accuracy: 0.9997 - val_loss: 0.0115 - val_accuracy: 0.9985 - lr: 5.0000e-05\n",
            "Epoch 19/100\n",
            "5075/5075 [==============================] - 20s 4ms/step - loss: 9.9736e-04 - accuracy: 0.9997 - val_loss: 0.0105 - val_accuracy: 0.9986 - lr: 2.5000e-06\n",
            "Epoch 20/100\n",
            "5075/5075 [==============================] - 20s 4ms/step - loss: 0.0011 - accuracy: 0.9997 - val_loss: 0.0101 - val_accuracy: 0.9986 - lr: 2.5000e-06\n",
            "Epoch 21/100\n",
            "5075/5075 [==============================] - 20s 4ms/step - loss: 0.0011 - accuracy: 0.9997 - val_loss: 0.0105 - val_accuracy: 0.9986 - lr: 2.5000e-06\n",
            "Epoch 22/100\n",
            "5075/5075 [==============================] - 20s 4ms/step - loss: 0.0010 - accuracy: 0.9997 - val_loss: 0.0098 - val_accuracy: 0.9986 - lr: 1.2500e-07\n",
            "Epoch 23/100\n",
            "5075/5075 [==============================] - 20s 4ms/step - loss: 0.0011 - accuracy: 0.9997 - val_loss: 0.0107 - val_accuracy: 0.9986 - lr: 1.2500e-07\n",
            "Epoch 24/100\n",
            "5075/5075 [==============================] - 20s 4ms/step - loss: 0.0011 - accuracy: 0.9997 - val_loss: 0.0107 - val_accuracy: 0.9986 - lr: 1.2500e-07\n",
            "Epoch 25/100\n",
            "5075/5075 [==============================] - 20s 4ms/step - loss: 0.0011 - accuracy: 0.9997 - val_loss: 0.0106 - val_accuracy: 0.9986 - lr: 6.2500e-09\n",
            "Epoch 26/100\n",
            "5075/5075 [==============================] - 20s 4ms/step - loss: 0.0011 - accuracy: 0.9997 - val_loss: 0.0102 - val_accuracy: 0.9986 - lr: 6.2500e-09\n",
            "Epoch 27/100\n",
            "5075/5075 [==============================] - ETA: 0s - loss: 0.0010 - accuracy: 0.9997Restoring model weights from the end of the best epoch: 12.\n",
            "5075/5075 [==============================] - 20s 4ms/step - loss: 0.0010 - accuracy: 0.9997 - val_loss: 0.0104 - val_accuracy: 0.9986 - lr: 6.2500e-09\n",
            "Epoch 27: early stopping\n"
          ]
        }
      ]
    },
    {
      "cell_type": "code",
      "source": [
        "# Evaluate traning history \n",
        "plt.figure(figsize=(8,5))\n",
        "plt.plot(dl_model_history.history['accuracy'])\n",
        "plt.plot(dl_model_history.history['val_accuracy'])\n",
        "plt.legend(['Train Accuracy', 'Validation Accuracy'])\n",
        "plt.xlabel('Epoch')\n",
        "plt.ylabel('Accuracy')\n",
        "plt.title('Taining History')\n",
        "plt.savefig('MLP_model_training_history.png')"
      ],
      "metadata": {
        "colab": {
          "base_uri": "https://localhost:8080/",
          "height": 487
        },
        "id": "vPECqb3Q4lKd",
        "outputId": "67d840de-73c1-4527-c873-f77254771606"
      },
      "execution_count": null,
      "outputs": [
        {
          "output_type": "display_data",
          "data": {
            "text/plain": [
              "<Figure size 800x500 with 1 Axes>"
            ],
            "image/png": "[encoded data removed]"
          },
          "metadata": {}
        }
      ]
    },
    {
      "cell_type": "code",
      "source": [
        "# Evaluate loss history\n",
        "plt.figure(figsize=(8,5))\n",
        "plt.plot(dl_model_history.history['loss'])\n",
        "plt.plot(dl_model_history.history['val_loss'])\n",
        "plt.legend(['Train Loss', 'Validation Loss'])\n",
        "plt.xlabel('Epoch')\n",
        "plt.ylabel('Loss')\n",
        "plt.title('Loss History')\n",
        "plt.savefig('MLP_model_loss_history.png')"
      ],
      "metadata": {
        "colab": {
          "base_uri": "https://localhost:8080/",
          "height": 487
        },
        "id": "T_1WNAUS4lM8",
        "outputId": "58613e41-1dad-47ab-ab1d-7f387f8b8a7e"
      },
      "execution_count": null,
      "outputs": [
        {
          "output_type": "display_data",
          "data": {
            "text/plain": [
              "<Figure size 800x500 with 1 Axes>"
            ],
            "image/png": "[encoded data removed]"
          },
          "metadata": {}
        }
      ]
    },
    {
      "cell_type": "code",
      "source": [
        "# Predict for validation set\n",
        "y_val_pred = dl_model.predict(x_val)\n",
        "precision_dl, recall_dl, fscore_dl, support_dl=precision_recall_fscore_support(y_val, y_val_pred.round(), average='macro')\n",
        "print(classification_report(y_val,y_val_pred.round()))\n"
      ],
      "metadata": {
        "colab": {
          "base_uri": "https://localhost:8080/"
        },
        "id": "n75rgsNp4lPl",
        "outputId": "6708bb40-7ec4-4616-f543-891271a1b887"
      },
      "execution_count": null,
      "outputs": [
        {
          "output_type": "stream",
          "name": "stdout",
          "text": [
            "5828/5828 [==============================] - 6s 1ms/step\n",
            "              precision    recall  f1-score   support\n",
            "\n",
            "           0       1.00      1.00      1.00    186054\n",
            "           1       0.84      0.85      0.84       413\n",
            "\n",
            "    accuracy                           1.00    186467\n",
            "   macro avg       0.92      0.92      0.92    186467\n",
            "weighted avg       1.00      1.00      1.00    186467\n",
            "\n"
          ]
        }
      ]
    },
    {
      "cell_type": "code",
      "source": [
        "# Load the best model and predict for validation set\n",
        "from google.colab import drive\n",
        "drive.mount('/content/drive')\n",
        "\n",
        "%cd /content/drive/MyDrive/data/\n",
        "\n",
        "dl_model.load_weights(filepath=\"MLP_model.h5\")\n",
        "y_val_pred = dl_model.predict(x_val)\n",
        "precision_dl, recall_dl, fscore_dl, support_dl=precision_recall_fscore_support(y_val, y_val_pred.round(), average='macro')\n",
        "print(classification_report(y_val, y_val_pred.round()))"
      ],
      "metadata": {
        "colab": {
          "base_uri": "https://localhost:8080/"
        },
        "id": "zimuNa3Z424K",
        "outputId": "84b40fa6-11ea-478f-995f-f5fedc9b1a31"
      },
      "execution_count": null,
      "outputs": [
        {
          "output_type": "stream",
          "name": "stdout",
          "text": [
            "Drive already mounted at /content/drive; to attempt to forcibly remount, call drive.mount(\"/content/drive\", force_remount=True).\n",
            "/content/drive/MyDrive/data\n",
            "5828/5828 [==============================] - 7s 1ms/step\n",
            "              precision    recall  f1-score   support\n",
            "\n",
            "           0       1.00      1.00      1.00    186054\n",
            "           1       0.84      0.85      0.84       413\n",
            "\n",
            "    accuracy                           1.00    186467\n",
            "   macro avg       0.92      0.92      0.92    186467\n",
            "weighted avg       1.00      1.00      1.00    186467\n",
            "\n"
          ]
        }
      ]
    },
    {
      "cell_type": "markdown",
      "source": [
        "# Model Comparision"
      ],
      "metadata": {
        "id": "6PEiXPI4CKQs"
      }
    },
    {
      "cell_type": "code",
      "source": [
        "\n",
        "# Model Comparsion\n",
        "Model_Selection=pd.DataFrame({'Model':['Random Forest', 'XGBoost', 'Decision Tree', 'Navie Bayes', 'Logistic Regression', 'K-Nearest Neighbors', 'MLP Model'],\n",
        "                              'Precision':[precision_rfc, precision_xgbc, precision_dtc, precision_gnb, precision_lr,  precision_knc, precision_dl],\n",
        "                              'Recall':[recall_rfc, recall_xgbc, recall_dtc, recall_gnb, recall_lr,  recall_knc, recall_dl],\n",
        "                              'F1 Score':[fscore_rfc, fscore_xgbc, fscore_dtc, fscore_gnb, fscore_lr,  fscore_knc, fscore_dl],\n",
        "                              })\n",
        "Model_Selection.index+=1\n",
        "Model_Selection"
      ],
      "metadata": {
        "colab": {
          "base_uri": "https://localhost:8080/",
          "height": 266
        },
        "id": "lTIihOII42-J",
        "outputId": "5670798d-11af-450f-ab1c-13b3cc03f3bd"
      },
      "execution_count": null,
      "outputs": [
        {
          "output_type": "execute_result",
          "data": {
            "text/plain": [
              "                 Model  Precision    Recall  F1 Score\n",
              "1        Random Forest   0.988317  0.714275  0.797658\n",
              "2              XGBoost   0.967213  0.142857  0.248945\n",
              "3        Decision Tree   0.970269  0.715467  0.795351\n",
              "4          Navie Bayes   0.498893  0.499997  0.499444\n",
              "5  Logistic Regression   0.623505  0.996617  0.696384\n",
              "6  K-Nearest Neighbors   0.654000  0.842116  0.712024\n",
              "7            MLP Model   0.918491  0.923546  0.921003"
            ],
            "text/html": [
              "\n",
              "  <div id=\"df-7359ad77-d16a-4e38-b1e3-51bbe1d47fe0\">\n",
              "    <div class=\"colab-df-container\">\n",
              "      <div>\n",
              "<style scoped>\n",
              "    .dataframe tbody tr th:only-of-type {\n",
              "        vertical-align: middle;\n",
              "    }\n",
              "\n",
              "    .dataframe tbody tr th {\n",
              "        vertical-align: top;\n",
              "    }\n",
              "\n",
              "    .dataframe thead th {\n",
              "        text-align: right;\n",
              "    }\n",
              "</style>\n",
              "<table border=\"1\" class=\"dataframe\">\n",
              "  <thead>\n",
              "    <tr style=\"text-align: right;\">\n",
              "      <th></th>\n",
              "      <th>Model</th>\n",
              "      <th>Precision</th>\n",
              "      <th>Recall</th>\n",
              "      <th>F1 Score</th>\n",
              "    </tr>\n",
              "  </thead>\n",
              "  <tbody>\n",
              "    <tr>\n",
              "      <th>1</th>\n",
              "      <td>Random Forest</td>\n",
              "      <td>0.988317</td>\n",
              "      <td>0.714275</td>\n",
              "      <td>0.797658</td>\n",
              "    </tr>\n",
              "    <tr>\n",
              "      <th>2</th>\n",
              "      <td>XGBoost</td>\n",
              "      <td>0.967213</td>\n",
              "      <td>0.142857</td>\n",
              "      <td>0.248945</td>\n",
              "    </tr>\n",
              "    <tr>\n",
              "      <th>3</th>\n",
              "      <td>Decision Tree</td>\n",
              "      <td>0.970269</td>\n",
              "      <td>0.715467</td>\n",
              "      <td>0.795351</td>\n",
              "    </tr>\n",
              "    <tr>\n",
              "      <th>4</th>\n",
              "      <td>Navie Bayes</td>\n",
              "      <td>0.498893</td>\n",
              "      <td>0.499997</td>\n",
              "      <td>0.499444</td>\n",
              "    </tr>\n",
              "    <tr>\n",
              "      <th>5</th>\n",
              "      <td>Logistic Regression</td>\n",
              "      <td>0.623505</td>\n",
              "      <td>0.996617</td>\n",
              "      <td>0.696384</td>\n",
              "    </tr>\n",
              "    <tr>\n",
              "      <th>6</th>\n",
              "      <td>K-Nearest Neighbors</td>\n",
              "      <td>0.654000</td>\n",
              "      <td>0.842116</td>\n",
              "      <td>0.712024</td>\n",
              "    </tr>\n",
              "    <tr>\n",
              "      <th>7</th>\n",
              "      <td>MLP Model</td>\n",
              "      <td>0.918491</td>\n",
              "      <td>0.923546</td>\n",
              "      <td>0.921003</td>\n",
              "    </tr>\n",
              "  </tbody>\n",
              "</table>\n",
              "</div>\n",
              "      <button class=\"colab-df-convert\" onclick=\"convertToInteractive('df-7359ad77-d16a-4e38-b1e3-51bbe1d47fe0')\"\n",
              "              title=\"Convert this dataframe to an interactive table.\"\n",
              "              style=\"display:none;\">\n",
              "        \n",
              "  <svg xmlns=\"http://www.w3.org/2000/svg\" height=\"24px\"viewBox=\"0 0 24 24\"\n",
              "       width=\"24px\">\n",
              "    <path d=\"M0 0h24v24H0V0z\" fill=\"none\"/>\n",
              "    <path d=\"M18.56 5.44l.94 2.06.94-2.06 2.06-.94-2.06-.94-.94-2.06-.94 2.06-2.06.94zm-11 1L8.5 8.5l.94-2.06 2.06-.94-2.06-.94L8.5 2.5l-.94 2.06-2.06.94zm10 10l.94 2.06.94-2.06 2.06-.94-2.06-.94-.94-2.06-.94 2.06-2.06.94z\"/><path d=\"M17.41 7.96l-1.37-1.37c-.4-.4-.92-.59-1.43-.59-.52 0-1.04.2-1.43.59L10.3 9.45l-7.72 7.72c-.78.78-.78 2.05 0 2.83L4 21.41c.39.39.9.59 1.41.59.51 0 1.02-.2 1.41-.59l7.78-7.78 2.81-2.81c.8-.78.8-2.07 0-2.86zM5.41 20L4 18.59l7.72-7.72 1.47 1.35L5.41 20z\"/>\n",
              "  </svg>\n",
              "      </button>\n",
              "      \n",
              "  <style>\n",
              "    .colab-df-container {\n",
              "      display:flex;\n",
              "      flex-wrap:wrap;\n",
              "      gap: 12px;\n",
              "    }\n",
              "\n",
              "    .colab-df-convert {\n",
              "      background-color: #E8F0FE;\n",
              "      border: none;\n",
              "      border-radius: 50%;\n",
              "      cursor: pointer;\n",
              "      display: none;\n",
              "      fill: #1967D2;\n",
              "      height: 32px;\n",
              "      padding: 0 0 0 0;\n",
              "      width: 32px;\n",
              "    }\n",
              "\n",
              "    .colab-df-convert:hover {\n",
              "      background-color: #E2EBFA;\n",
              "      box-shadow: 0px 1px 2px rgba(60, 64, 67, 0.3), 0px 1px 3px 1px rgba(60, 64, 67, 0.15);\n",
              "      fill: #174EA6;\n",
              "    }\n",
              "\n",
              "    [theme=dark] .colab-df-convert {\n",
              "      background-color: #3B4455;\n",
              "      fill: #D2E3FC;\n",
              "    }\n",
              "\n",
              "    [theme=dark] .colab-df-convert:hover {\n",
              "      background-color: #434B5C;\n",
              "      box-shadow: 0px 1px 3px 1px rgba(0, 0, 0, 0.15);\n",
              "      filter: drop-shadow(0px 1px 2px rgba(0, 0, 0, 0.3));\n",
              "      fill: #FFFFFF;\n",
              "    }\n",
              "  </style>\n",
              "\n",
              "      <script>\n",
              "        const buttonEl =\n",
              "          document.querySelector('#df-7359ad77-d16a-4e38-b1e3-51bbe1d47fe0 button.colab-df-convert');\n",
              "        buttonEl.style.display =\n",
              "          google.colab.kernel.accessAllowed ? 'block' : 'none';\n",
              "\n",
              "        async function convertToInteractive(key) {\n",
              "          const element = document.querySelector('#df-7359ad77-d16a-4e38-b1e3-51bbe1d47fe0');\n",
              "          const dataTable =\n",
              "            await google.colab.kernel.invokeFunction('convertToInteractive',\n",
              "                                                     [key], {});\n",
              "          if (!dataTable) return;\n",
              "\n",
              "          const docLinkHtml = 'Like what you see? Visit the ' +\n",
              "            '<a target=\"_blank\" href=https://colab.research.google.com/notebooks/data_table.ipynb>data table notebook</a>'\n",
              "            + ' to learn more about interactive tables.';\n",
              "          element.innerHTML = '';\n",
              "          dataTable['output_type'] = 'display_data';\n",
              "          await google.colab.output.renderOutput(dataTable, element);\n",
              "          const docLink = document.createElement('div');\n",
              "          docLink.innerHTML = docLinkHtml;\n",
              "          element.appendChild(docLink);\n",
              "        }\n",
              "      </script>\n",
              "    </div>\n",
              "  </div>\n",
              "  "
            ]
          },
          "metadata": {},
          "execution_count": 59
        }
      ]
    },
    {
      "cell_type": "code",
      "source": [],
      "metadata": {
        "id": "13tE76OG43A-"
      },
      "execution_count": null,
      "outputs": []
    },
    {
      "cell_type": "code",
      "source": [],
      "metadata": {
        "id": "gKKVOEUq43Dm"
      },
      "execution_count": null,
      "outputs": []
    },
    {
      "cell_type": "code",
      "source": [],
      "metadata": {
        "id": "6IxjoC0I43GY"
      },
      "execution_count": null,
      "outputs": []
    }
  ],
  "metadata": {
    "kernelspec": {
      "display_name": "base",
      "language": "python",
      "name": "python3"
    },
    "language_info": {
      "codemirror_mode": {
        "name": "ipython",
        "version": 3
      },
      "file_extension": ".py",
      "mimetype": "text/x-python",
      "name": "python",
      "nbconvert_exporter": "python",
      "pygments_lexer": "ipython3",
      "version": "3.9.12"
    },
    "orig_nbformat": 4,
    "colab": {
      "provenance": [],
      "machine_shape": "hm"
    },
    "accelerator": "TPU",
    "gpuClass": "premium"
  },
  "nbformat": 4,
  "nbformat_minor": 0
}