{
 "cells": [
  {
   "cell_type": "code",
   "execution_count": null,
   "metadata": {},
   "outputs": [],
   "source": []
  },
  {
   "cell_type": "code",
   "execution_count": 2,
   "metadata": {},
   "outputs": [
    {
     "name": "stderr",
     "output_type": "stream",
     "text": [
      "/var/folders/32/01d39x_s1sn9ywcywln8d29r0000gn/T/ipykernel_39928/2487470730.py:1: DtypeWarning: Columns (3,4,5) have mixed types. Specify dtype option on import or set low_memory=False.\n",
      "  original =pd.read_csv('dataset.csv')\n"
     ]
    }
   ],
   "source": [
    "original =pd.read_csv('dataset.csv')\n",
    "df=original.copy()"
   ]
  },
  {
   "cell_type": "code",
   "execution_count": 3,
   "metadata": {},
   "outputs": [
    {
     "data": {
      "text/html": [
       "<div>\n",
       "<style scoped>\n",
       "    .dataframe tbody tr th:only-of-type {\n",
       "        vertical-align: middle;\n",
       "    }\n",
       "\n",
       "    .dataframe tbody tr th {\n",
       "        vertical-align: top;\n",
       "    }\n",
       "\n",
       "    .dataframe thead th {\n",
       "        text-align: right;\n",
       "    }\n",
       "</style>\n",
       "<table border=\"1\" class=\"dataframe\">\n",
       "  <thead>\n",
       "    <tr style=\"text-align: right;\">\n",
       "      <th></th>\n",
       "      <th>id</th>\n",
       "      <th>spkid</th>\n",
       "      <th>full_name</th>\n",
       "      <th>pdes</th>\n",
       "      <th>name</th>\n",
       "      <th>prefix</th>\n",
       "      <th>neo</th>\n",
       "      <th>pha</th>\n",
       "      <th>H</th>\n",
       "      <th>diameter</th>\n",
       "      <th>...</th>\n",
       "      <th>sigma_i</th>\n",
       "      <th>sigma_om</th>\n",
       "      <th>sigma_w</th>\n",
       "      <th>sigma_ma</th>\n",
       "      <th>sigma_ad</th>\n",
       "      <th>sigma_n</th>\n",
       "      <th>sigma_tp</th>\n",
       "      <th>sigma_per</th>\n",
       "      <th>class</th>\n",
       "      <th>rms</th>\n",
       "    </tr>\n",
       "  </thead>\n",
       "  <tbody>\n",
       "    <tr>\n",
       "      <th>0</th>\n",
       "      <td>a0000001</td>\n",
       "      <td>2000001</td>\n",
       "      <td>1 Ceres</td>\n",
       "      <td>1</td>\n",
       "      <td>Ceres</td>\n",
       "      <td>NaN</td>\n",
       "      <td>N</td>\n",
       "      <td>N</td>\n",
       "      <td>3.40</td>\n",
       "      <td>939.400</td>\n",
       "      <td>...</td>\n",
       "      <td>4.608900e-09</td>\n",
       "      <td>6.168800e-08</td>\n",
       "      <td>6.624800e-08</td>\n",
       "      <td>7.820700e-09</td>\n",
       "      <td>1.111300e-11</td>\n",
       "      <td>1.196500e-12</td>\n",
       "      <td>3.782900e-08</td>\n",
       "      <td>9.415900e-09</td>\n",
       "      <td>MBA</td>\n",
       "      <td>0.43301</td>\n",
       "    </tr>\n",
       "    <tr>\n",
       "      <th>1</th>\n",
       "      <td>a0000002</td>\n",
       "      <td>2000002</td>\n",
       "      <td>2 Pallas</td>\n",
       "      <td>2</td>\n",
       "      <td>Pallas</td>\n",
       "      <td>NaN</td>\n",
       "      <td>N</td>\n",
       "      <td>N</td>\n",
       "      <td>4.20</td>\n",
       "      <td>545.000</td>\n",
       "      <td>...</td>\n",
       "      <td>3.469400e-06</td>\n",
       "      <td>6.272400e-06</td>\n",
       "      <td>9.128200e-06</td>\n",
       "      <td>8.859100e-06</td>\n",
       "      <td>4.961300e-09</td>\n",
       "      <td>4.653600e-10</td>\n",
       "      <td>4.078700e-05</td>\n",
       "      <td>3.680700e-06</td>\n",
       "      <td>MBA</td>\n",
       "      <td>0.35936</td>\n",
       "    </tr>\n",
       "    <tr>\n",
       "      <th>2</th>\n",
       "      <td>a0000003</td>\n",
       "      <td>2000003</td>\n",
       "      <td>3 Juno</td>\n",
       "      <td>3</td>\n",
       "      <td>Juno</td>\n",
       "      <td>NaN</td>\n",
       "      <td>N</td>\n",
       "      <td>N</td>\n",
       "      <td>5.33</td>\n",
       "      <td>246.596</td>\n",
       "      <td>...</td>\n",
       "      <td>3.223100e-06</td>\n",
       "      <td>1.664600e-05</td>\n",
       "      <td>1.772100e-05</td>\n",
       "      <td>8.110400e-06</td>\n",
       "      <td>4.363900e-09</td>\n",
       "      <td>4.413400e-10</td>\n",
       "      <td>3.528800e-05</td>\n",
       "      <td>3.107200e-06</td>\n",
       "      <td>MBA</td>\n",
       "      <td>0.33848</td>\n",
       "    </tr>\n",
       "    <tr>\n",
       "      <th>3</th>\n",
       "      <td>a0000004</td>\n",
       "      <td>2000004</td>\n",
       "      <td>4 Vesta</td>\n",
       "      <td>4</td>\n",
       "      <td>Vesta</td>\n",
       "      <td>NaN</td>\n",
       "      <td>N</td>\n",
       "      <td>N</td>\n",
       "      <td>3.00</td>\n",
       "      <td>525.400</td>\n",
       "      <td>...</td>\n",
       "      <td>2.170600e-07</td>\n",
       "      <td>3.880800e-07</td>\n",
       "      <td>1.789300e-07</td>\n",
       "      <td>1.206800e-06</td>\n",
       "      <td>1.648600e-09</td>\n",
       "      <td>2.612500e-10</td>\n",
       "      <td>4.103700e-06</td>\n",
       "      <td>1.274900e-06</td>\n",
       "      <td>MBA</td>\n",
       "      <td>0.39980</td>\n",
       "    </tr>\n",
       "    <tr>\n",
       "      <th>4</th>\n",
       "      <td>a0000005</td>\n",
       "      <td>2000005</td>\n",
       "      <td>5 Astraea</td>\n",
       "      <td>5</td>\n",
       "      <td>Astraea</td>\n",
       "      <td>NaN</td>\n",
       "      <td>N</td>\n",
       "      <td>N</td>\n",
       "      <td>6.90</td>\n",
       "      <td>106.699</td>\n",
       "      <td>...</td>\n",
       "      <td>2.740800e-06</td>\n",
       "      <td>2.894900e-05</td>\n",
       "      <td>2.984200e-05</td>\n",
       "      <td>8.303800e-06</td>\n",
       "      <td>4.729000e-09</td>\n",
       "      <td>5.522700e-10</td>\n",
       "      <td>3.474300e-05</td>\n",
       "      <td>3.490500e-06</td>\n",
       "      <td>MBA</td>\n",
       "      <td>0.52191</td>\n",
       "    </tr>\n",
       "  </tbody>\n",
       "</table>\n",
       "<p>5 rows × 45 columns</p>\n",
       "</div>"
      ],
      "text/plain": [
       "         id    spkid       full_name pdes     name prefix neo pha     H  \\\n",
       "0  a0000001  2000001         1 Ceres    1    Ceres    NaN   N   N  3.40   \n",
       "1  a0000002  2000002        2 Pallas    2   Pallas    NaN   N   N  4.20   \n",
       "2  a0000003  2000003          3 Juno    3     Juno    NaN   N   N  5.33   \n",
       "3  a0000004  2000004         4 Vesta    4    Vesta    NaN   N   N  3.00   \n",
       "4  a0000005  2000005       5 Astraea    5  Astraea    NaN   N   N  6.90   \n",
       "\n",
       "   diameter  ...       sigma_i      sigma_om       sigma_w      sigma_ma  \\\n",
       "0   939.400  ...  4.608900e-09  6.168800e-08  6.624800e-08  7.820700e-09   \n",
       "1   545.000  ...  3.469400e-06  6.272400e-06  9.128200e-06  8.859100e-06   \n",
       "2   246.596  ...  3.223100e-06  1.664600e-05  1.772100e-05  8.110400e-06   \n",
       "3   525.400  ...  2.170600e-07  3.880800e-07  1.789300e-07  1.206800e-06   \n",
       "4   106.699  ...  2.740800e-06  2.894900e-05  2.984200e-05  8.303800e-06   \n",
       "\n",
       "       sigma_ad       sigma_n      sigma_tp     sigma_per  class      rms  \n",
       "0  1.111300e-11  1.196500e-12  3.782900e-08  9.415900e-09    MBA  0.43301  \n",
       "1  4.961300e-09  4.653600e-10  4.078700e-05  3.680700e-06    MBA  0.35936  \n",
       "2  4.363900e-09  4.413400e-10  3.528800e-05  3.107200e-06    MBA  0.33848  \n",
       "3  1.648600e-09  2.612500e-10  4.103700e-06  1.274900e-06    MBA  0.39980  \n",
       "4  4.729000e-09  5.522700e-10  3.474300e-05  3.490500e-06    MBA  0.52191  \n",
       "\n",
       "[5 rows x 45 columns]"
      ]
     },
     "execution_count": 3,
     "metadata": {},
     "output_type": "execute_result"
    }
   ],
   "source": [
    "df.head()"
   ]
  },
  {
   "cell_type": "code",
   "execution_count": 4,
   "metadata": {},
   "outputs": [
    {
     "name": "stdout",
     "output_type": "stream",
     "text": [
      "<class 'pandas.core.frame.DataFrame'>\n",
      "RangeIndex: 958524 entries, 0 to 958523\n",
      "Data columns (total 45 columns):\n",
      " #   Column          Non-Null Count   Dtype  \n",
      "---  ------          --------------   -----  \n",
      " 0   id              958524 non-null  object \n",
      " 1   spkid           958524 non-null  int64  \n",
      " 2   full_name       958524 non-null  object \n",
      " 3   pdes            958524 non-null  object \n",
      " 4   name            22064 non-null   object \n",
      " 5   prefix          18 non-null      object \n",
      " 6   neo             958520 non-null  object \n",
      " 7   pha             938603 non-null  object \n",
      " 8   H               952261 non-null  float64\n",
      " 9   diameter        136209 non-null  float64\n",
      " 10  albedo          135103 non-null  float64\n",
      " 11  diameter_sigma  136081 non-null  float64\n",
      " 12  orbit_id        958524 non-null  object \n",
      " 13  epoch           958524 non-null  float64\n",
      " 14  epoch_mjd       958524 non-null  int64  \n",
      " 15  epoch_cal       958524 non-null  float64\n",
      " 16  equinox         958524 non-null  object \n",
      " 17  e               958524 non-null  float64\n",
      " 18  a               958524 non-null  float64\n",
      " 19  q               958524 non-null  float64\n",
      " 20  i               958524 non-null  float64\n",
      " 21  om              958524 non-null  float64\n",
      " 22  w               958524 non-null  float64\n",
      " 23  ma              958523 non-null  float64\n",
      " 24  ad              958520 non-null  float64\n",
      " 25  n               958524 non-null  float64\n",
      " 26  tp              958524 non-null  float64\n",
      " 27  tp_cal          958524 non-null  float64\n",
      " 28  per             958520 non-null  float64\n",
      " 29  per_y           958523 non-null  float64\n",
      " 30  moid            938603 non-null  float64\n",
      " 31  moid_ld         958397 non-null  float64\n",
      " 32  sigma_e         938602 non-null  float64\n",
      " 33  sigma_a         938602 non-null  float64\n",
      " 34  sigma_q         938602 non-null  float64\n",
      " 35  sigma_i         938602 non-null  float64\n",
      " 36  sigma_om        938602 non-null  float64\n",
      " 37  sigma_w         938602 non-null  float64\n",
      " 38  sigma_ma        938602 non-null  float64\n",
      " 39  sigma_ad        938598 non-null  float64\n",
      " 40  sigma_n         938602 non-null  float64\n",
      " 41  sigma_tp        938602 non-null  float64\n",
      " 42  sigma_per       938598 non-null  float64\n",
      " 43  class           958524 non-null  object \n",
      " 44  rms             958522 non-null  float64\n",
      "dtypes: float64(33), int64(2), object(10)\n",
      "memory usage: 329.1+ MB\n"
     ]
    }
   ],
   "source": [
    "df.info()"
   ]
  },
  {
   "cell_type": "code",
   "execution_count": 6,
   "metadata": {},
   "outputs": [
    {
     "data": {
      "text/plain": [
       "id                     0\n",
       "spkid                  0\n",
       "full_name              0\n",
       "pdes                   0\n",
       "name              936460\n",
       "prefix            958506\n",
       "neo                    4\n",
       "pha                19921\n",
       "H                   6263\n",
       "diameter          822315\n",
       "albedo            823421\n",
       "diameter_sigma    822443\n",
       "orbit_id               0\n",
       "epoch                  0\n",
       "epoch_mjd              0\n",
       "epoch_cal              0\n",
       "equinox                0\n",
       "e                      0\n",
       "a                      0\n",
       "q                      0\n",
       "i                      0\n",
       "om                     0\n",
       "w                      0\n",
       "ma                     1\n",
       "ad                     4\n",
       "n                      0\n",
       "tp                     0\n",
       "tp_cal                 0\n",
       "per                    4\n",
       "per_y                  1\n",
       "moid               19921\n",
       "moid_ld              127\n",
       "sigma_e            19922\n",
       "sigma_a            19922\n",
       "sigma_q            19922\n",
       "sigma_i            19922\n",
       "sigma_om           19922\n",
       "sigma_w            19922\n",
       "sigma_ma           19922\n",
       "sigma_ad           19926\n",
       "sigma_n            19922\n",
       "sigma_tp           19922\n",
       "sigma_per          19926\n",
       "class                  0\n",
       "rms                    2\n",
       "dtype: int64"
      ]
     },
     "execution_count": 6,
     "metadata": {},
     "output_type": "execute_result"
    }
   ],
   "source": [
    "df.isnull().sum()\n"
   ]
  },
  {
   "cell_type": "code",
   "execution_count": 7,
   "metadata": {},
   "outputs": [
    {
     "data": {
      "image/png": "[encoded data removed]",
      "text/plain": [
       "<Figure size 432x288 with 1 Axes>"
      ]
     },
     "metadata": {
      "needs_background": "light"
     },
     "output_type": "display_data"
    }
   ],
   "source": [
    "sns.heatmap(df.isnull(), cbar=False)\n",
    "plt.show()\n"
   ]
  },
  {
   "cell_type": "code",
   "execution_count": 11,
   "metadata": {},
   "outputs": [
    {
     "data": {
      "image/png": "[encoded data removed]",
      "text/plain": [
       "<Figure size 1296x504 with 1 Axes>"
      ]
     },
     "metadata": {
      "needs_background": "light"
     },
     "output_type": "display_data"
    }
   ],
   "source": [
    "nan_counts = df.isnull().sum()\n",
    "\n",
    "# create a bar chart of the NaN counts\n",
    "plt.figure(figsize=(18, 7))\n",
    "nan_counts.plot(kind='bar')\n",
    "plt.title('Number of NaN Values by Column')\n",
    "plt.xlabel('Columns')\n",
    "plt.ylabel('Number of NaN Values')\n",
    "plt.show()\n"
   ]
  },
  {
   "cell_type": "code",
   "execution_count": null,
   "metadata": {},
   "outputs": [],
   "source": []
  },
  {
   "cell_type": "code",
   "execution_count": null,
   "metadata": {},
   "outputs": [],
   "source": []
  },
  {
   "cell_type": "code",
   "execution_count": null,
   "metadata": {},
   "outputs": [],
   "source": []
  },
  {
   "cell_type": "code",
   "execution_count": null,
   "metadata": {},
   "outputs": [],
   "source": []
  },
  {
   "cell_type": "code",
   "execution_count": null,
   "metadata": {},
   "outputs": [],
   "source": []
  },
  {
   "cell_type": "code",
   "execution_count": null,
   "metadata": {},
   "outputs": [],
   "source": []
  },
  {
   "cell_type": "code",
   "execution_count": null,
   "metadata": {},
   "outputs": [],
   "source": []
  }
 ],
 "metadata": {
  "kernelspec": {
   "display_name": "base",
   "language": "python",
   "name": "python3"
  },
  "language_info": {
   "codemirror_mode": {
    "name": "ipython",
    "version": 3
   },
   "file_extension": ".py",
   "mimetype": "text/x-python",
   "name": "python",
   "nbconvert_exporter": "python",
   "pygments_lexer": "ipython3",
   "version": "3.9.12"
  },
  "orig_nbformat": 4
 },
 "nbformat": 4,
 "nbformat_minor": 2
}
